{
 "cells": [
  {
   "cell_type": "markdown",
   "metadata": {},
   "source": [
    "# COSC 526 - Assignment 03\n",
    "### January 24, 2020\n",
    "---\n",
    "\n",
    "The solutions to Assignment 3 are **due on Jan 31, 2020 (before 8:00AM ET).**\n",
    "\n",
    "For this assignment, you must work in groups of one or two students. Each person is responsible to write their own code, but the group will (together) discuss their solution.  In this notebook, we provide you with basic functions for completing the assignment.  *Complete the assignment in this notebook.  You will need to modify existing code and write new code to find a solution*.  Each member of the group must upload their own work (i.e., a notebook file) to GitHub.\n",
    "\n",
    "*Note: Running a cell will not rerun previous cells.  If you edit code in previous cells, you must rerun those cells.  We recommend using* `Run All` *to avoid any errors results from not rerunning previous cells.  You can find this in the menu above:* `Cell -> Run All`"
   ]
  },
  {
   "cell_type": "markdown",
   "metadata": {},
   "source": [
    "### Data Pre-Processing:\n",
    "Below is code to process a unicode text file into a string of only upper-case A-Z characters.  We use this code to read the text file (i.e., \"The Count of Monte Cristo\") and prepare the text for the following three problems.  The output string, which you should use for solving the assignment problems, is named `text_upper`."
   ]
  },
  {
   "cell_type": "code",
   "execution_count": 1,
   "metadata": {},
   "outputs": [
    {
     "name": "stdout",
     "output_type": "stream",
     "text": [
      "PROJECT GUTENBERG S THE COUNT OF MONTE CRISTO  BY ALEXANDRE DUMAS  P  RE  THIS EBOOK IS FOR THE USE \n"
     ]
    }
   ],
   "source": [
    "# Import regular expressions library\n",
    "import re\n",
    "\n",
    "# Read the text file\n",
    "with open('book_CountOfMonteCristo.txt', 'r') as f:\n",
    "    text_lines = f.readlines()\n",
    "\n",
    "# Concatenate the list of strings into a single string\n",
    "text_all = ''.join(text_lines)\n",
    "\n",
    "# Remove all non-alphabet characters with a regular expression\n",
    "text_alpha = re.sub(r'[^a-zA-Z]', ' ', text_all)\n",
    "\n",
    "# Convert characters to upper-case\n",
    "text_upper = text_alpha.upper()\n",
    "\n",
    "# Uncomment the following line if you would like to see the first 100 characters\n",
    "print(text_upper[:100])"
   ]
  },
  {
   "cell_type": "markdown",
   "metadata": {},
   "source": [
    "### Problem 1:\n",
    "Analyze the text for word length frequency. We might expect short words to be more common than long words. But, are words of length 2 more common than words or length 3? Are words of length 3 more common that words of length 4? **Use the text you parsed in the previous cell to count the frequency of each word length in the text**.  *Below, we provide you with the first step to solve this problem and hints for what to do next.*"
   ]
  },
  {
   "cell_type": "code",
   "execution_count": 2,
   "metadata": {},
   "outputs": [
    {
     "name": "stdout",
     "output_type": "stream",
     "text": [
      "[(3, 109798), (2, 84021), (4, 81777), (5, 49101), (6, 39015), (7, 30701)]\n"
     ]
    }
   ],
   "source": [
    "# Convert the string of text into a list of words and remove empty words\n",
    "# HINT: ref [1]\n",
    "words = [w for w in text_upper.split(' ') if w is not '']\n",
    "\n",
    "# Uncomment the following line to see the first 100 words\n",
    "# print(words[-10:])\n",
    "\n",
    "# Define dictionary to store count of word lengths\n",
    "# HINT: ref [2]\n",
    "word_len_dict = {}\n",
    "word_len = []\n",
    "# Convert list of words to list of word lengths\n",
    "for i in words:\n",
    "    word_len.append(len(i)) \n",
    "#word_length = [len(w) for w in words] # Haoyuan's code\n",
    "#print(word_length[:10])\n",
    "# Count the words of each length and store in the dictionary\n",
    "# HINT: ref [3]\n",
    "for i in word_len:\n",
    "    if i not in word_len_dict:\n",
    "        word_len_dict[i] = 1\n",
    "    else:\n",
    "        word_len_dict[i] += 1        \n",
    "\n",
    "# Sort word length by most common into a list of (word length, count) tuples\n",
    "# HINT: ref [4,5,6]\n",
    "a = sorted(word_len_dict.items(), key = lambda item:item[1], reverse = True)\n",
    "print(a[:6])\n",
    "\n",
    "# Print the 6 most common word lengths\n",
    "# HINT: ref [7]\n"
   ]
  },
  {
   "cell_type": "markdown",
   "metadata": {},
   "source": [
    "#### Expected Output:\n",
    "```\n",
    "Word Length : Count\n",
    "3           : 109798\n",
    "2           :  84021\n",
    "4           :  81777\n",
    "5           :  49101\n",
    "6           :  39015\n",
    "7           :  30701\n",
    "```"
   ]
  },
  {
   "cell_type": "markdown",
   "metadata": {},
   "source": [
    "**References:**\n",
    "- [1: list comprehensions](https://docs.python.org/3/tutorial/datastructures.html#list-comprehensions)\n",
    "- [2: dictionaries](https://docs.python.org/3.6/library/stdtypes.html#dict)\n",
    "- [3: for loops](https://docs.python.org/3/reference/compound_stmts.html#for)\n",
    "- [4: sorted](https://docs.python.org/3/library/functions.html#sorted)\n",
    "- [5: dict.items](https://docs.python.org/3.6/library/stdtypes.html#dict.items)\n",
    "- [6: lambda expressions](https://docs.python.org/3/tutorial/controlflow.html#lambda-expressions)\n",
    "- [7: format string syntax](https://docs.python.org/3.6/library/string.html#format-string-syntax)"
   ]
  },
  {
   "cell_type": "markdown",
   "metadata": {},
   "source": [
    "### Problem 2:\n",
    "Analyze the text for letter frequency. If you have taken a crypto course and/or have seen substitution ciphers then you are probably aware that ’e’ is the most common letter used in the English language.  **Use the text you parsed above to count the frequency of each letter in the text**. *Below, we provide you with the first step to solve this problem and hints for what to do next.*"
   ]
  },
  {
   "cell_type": "code",
   "execution_count": 3,
   "metadata": {},
   "outputs": [
    {
     "name": "stdout",
     "output_type": "stream",
     "text": [
      "[('E', 258693), ('T', 180211), ('A', 165306), ('O', 156817), ('I', 142095), ('N', 137343)]\n"
     ]
    }
   ],
   "source": [
    "# Import string library to help us make a dictionary for this solution\n",
    "import string\n",
    "\n",
    "# Concatenate the list of words into a string of characters\n",
    "# HINT: ref [1]\n",
    "str = ''\n",
    "all_char = str.join(words)\n",
    "\n",
    "# Define a dictionary for counting letter frequency\n",
    "# HINT: ref [2,3]\n",
    "char_count_dict = {c:0 for c in string.ascii_uppercase}\n",
    "\n",
    "# Count the letters and store in the dictionary\n",
    "for i in all_char:\n",
    "    if i in char_count_dict:\n",
    "        char_count_dict[i] += 1\n",
    "    \n",
    "# Sort letters by most common into a list of (letter, count) tuples\n",
    "b = sorted(char_count_dict.items(), key = lambda item:item[1], reverse = True)\n",
    "print(b[:6])\n",
    "\n",
    "# Print the 6 most common characters\n",
    "# HINT: ref [4]\n"
   ]
  },
  {
   "cell_type": "markdown",
   "metadata": {},
   "source": [
    "#### Expected Output:\n",
    "```\n",
    "Character : Count\n",
    "E         : 258693\n",
    "T         : 180211\n",
    "A         : 165306\n",
    "O         : 156817\n",
    "I         : 142095\n",
    "N         : 137343\n",
    "```"
   ]
  },
  {
   "cell_type": "markdown",
   "metadata": {},
   "source": [
    "**References:**\n",
    "- [1: str.join](https://docs.python.org/3/library/stdtypes.html#str.join)\n",
    "- [2: list comprehensions](https://docs.python.org/3/tutorial/datastructures.html#list-comprehensions)\n",
    "- [3: dictionaries](https://docs.python.org/3.6/library/stdtypes.html#dict)\n",
    "- [4: format string syntax](https://docs.python.org/3.6/library/string.html#format-string-syntax)"
   ]
  },
  {
   "cell_type": "markdown",
   "metadata": {},
   "source": [
    "### Problem 3:\n",
    "If we really wanted to crack a substitution cipher (or win on ”Wheel of Fortune”) then we should be aware that, although \"e\" is the most common letter used in English, it may not be the most common first letter in a word. **Count the positional frequencies of each letter. Specifically, count the number of times each letter appears as the first letter in a word, as the last letter in a word, and as an interior letter in a word (i.e. a letter that is neither first nor last)**. *Below, we provide you with the first step to solve this problem and hints for what to do next.*"
   ]
  },
  {
   "cell_type": "markdown",
   "metadata": {},
   "source": [
    "Below, we define a method which takes in a word (string) and returns a list describing the position of each letter (character).  Each item in the list has the format `(letter, position)`.  The position can have the following values: `0: first letter, 1: interior letter, 2: last letter`"
   ]
  },
  {
   "cell_type": "code",
   "execution_count": 11,
   "metadata": {},
   "outputs": [],
   "source": [
    "# Define a method to return position of each character in a word\n",
    "def lettersPosition(word):\n",
    "    if len(word) == 1:\n",
    "        # Base case for words of length 1\n",
    "        return [(word, 0)]\n",
    "    else:\n",
    "        # Get first and last letters\n",
    "        first, last = word[0], word[-1]\n",
    "        pos_list = [(first, 0), (last, 2)]\n",
    "\n",
    "        # Get interior letters\n",
    "        interior = word[1:-1]\n",
    "        for char in interior:\n",
    "            pos_list.append((char, 1))\n",
    "\n",
    "    return pos_list"
   ]
  },
  {
   "cell_type": "markdown",
   "metadata": {},
   "source": [
    "We can call this method for each word in our list of words and sum the values to obtain letter position frequencies."
   ]
  },
  {
   "cell_type": "code",
   "execution_count": 12,
   "metadata": {
    "scrolled": true
   },
   "outputs": [
    {
     "name": "stdout",
     "output_type": "stream",
     "text": [
      "{'A': [51644, 111686, 1976], 'B': [18866, 8516, 541], 'C': [19577, 32130, 725], 'D': [17289, 18613, 58075], 'E': [10178, 153205, 95310], 'F': [17724, 10618, 16988], 'G': [7080, 15198, 13258], 'H': [35364, 77236, 13550], 'I': [31578, 109548, 969], 'J': [1338, 694, 0], 'K': [2385, 6432, 3827], 'L': [10180, 57858, 12573], 'M': [25586, 22770, 8296], 'N': [10844, 93468, 33031], 'O': [26706, 105417, 24694], 'P': [13999, 19094, 1808], 'Q': [816, 1190, 5], 'R': [11346, 82403, 27363], 'S': [34146, 45060, 47196], 'T': [70507, 61366, 48338], 'U': [4117, 47374, 8696], 'V': [4568, 16880, 11], 'W': [31921, 7194, 4691], 'X': [61, 3440, 358], 'Y': [13426, 3923, 25238], 'Z': [24, 892, 591]}\n"
     ]
    }
   ],
   "source": [
    "# Define a dictionary for counting letter position frequency\n",
    "char_pos_dict = {c:[0,0,0] for c in string.ascii_uppercase}\n",
    "#print(char_pos_dict)\n",
    "# Apply our letter location method to each word and sum values in our dictionary\n",
    "\n",
    "for word in words:\n",
    "    a = lettersPosition(word)\n",
    "    for j in a:\n",
    "        char_pos_dict[j[0]][j[1]] += 1\n",
    "    '''\n",
    "    for j in a:\n",
    "        if j[1] == 0:\n",
    "            char_pos_dict[j[0]][0] += 1\n",
    "        elif j[1] == 1:\n",
    "            char_pos_dict[j[0]][1] += 1            \n",
    "        elif j[1] == 2:\n",
    "            char_pos_dict[j[0]][2] += 1    \n",
    "    '''\n",
    "print(char_pos_dict)\n",
    "#print(words[:10])        \n",
    "# Print the position frequency of the first 6 letters in the alphabet\n"
   ]
  },
  {
   "cell_type": "markdown",
   "metadata": {},
   "source": [
    "#### Expected Output:\n",
    "```\n",
    "Character : First | Interior |  Last\n",
    "A         : 51644 |   111686 |  1976\n",
    "B         : 18866 |     8516 |   541\n",
    "C         : 19577 |    32130 |   725\n",
    "D         : 17289 |    18613 | 58075\n",
    "E         : 10178 |   153205 | 95310\n",
    "F         : 17724 |    10618 | 16988\n",
    "```"
   ]
  },
  {
   "cell_type": "markdown",
   "metadata": {},
   "source": [
    "### Problem 4:\n",
    "For problems 1, 2, and 3 you may want to present your results in a (graphically) nice way. This could be done with a histogram. It is probably easiest to build the histogram using whatever software package you feel comfortable with, but we recommend the python module `matplotlib`. Make sure to give your plots meaningful labels (including axis labels and a title)."
   ]
  },
  {
   "cell_type": "code",
   "execution_count": 96,
   "metadata": {},
   "outputs": [],
   "source": [
    "# Import matplotlib's pyplot\n",
    "# HINT: ref[1]\n",
    "from matplotlib import pyplot as plt"
   ]
  },
  {
   "cell_type": "markdown",
   "metadata": {},
   "source": [
    "We provide the code to plot the histogram of word lengths from problem 1 below.  Use this code as a template to produce histograms for Problems 2 and 3.  *Note: this code assumes that you have a dictionary, `word_len_dict`, with keys containing the word length and values containing the count of words with a given length (i.e., an entry of `3:109798` in the dictionary indicates that there are 109,798 words of length 3).*"
   ]
  },
  {
   "cell_type": "code",
   "execution_count": 101,
   "metadata": {},
   "outputs": [
    {
     "name": "stdout",
     "output_type": "stream",
     "text": [
      "{7: 30701, 9: 16102, 1: 23162, 3: 109798, 5: 49101, 2: 84021, 6: 39015, 4: 81777, 8: 21591, 12: 2075, 10: 8988, 11: 3834, 13: 820, 15: 82, 14: 183, 16: 17, 17: 3}\n"
     ]
    },
    {
     "data": {
      "image/png": "[encoded data removed]",
      "text/plain": [
       "<Figure size 432x288 with 1 Axes>"
      ]
     },
     "metadata": {
      "needs_background": "light"
     },
     "output_type": "display_data"
    }
   ],
   "source": [
    "# Sort word length dictionary by length of word\n",
    "wl_sorted = sorted(word_len_dict.items(), key=lambda x: x[0])\n",
    "\n",
    "# Get X and Y values\n",
    "# HINT: ref[2]\n",
    "X_vals, Y_vals = zip(*wl_sorted)\n",
    "\n",
    "# Plot the histogram for problem 1'\n",
    "# HINT: ref[3]\n",
    "plt.bar(X_vals, Y_vals, 0.75)\n",
    "plt.xlim((.125, len(X_vals)))\n",
    "plt.xticks(range(1,len(X_vals)+1,2))\n",
    "plt.xlabel('Word Length')\n",
    "plt.ylabel('Word Length Count')\n",
    "plt.title('Word Length Count in The Count of Monte Cristo')\n",
    "plt.show()"
   ]
  },
  {
   "cell_type": "markdown",
   "metadata": {},
   "source": [
    "**References:**\n",
    "- [1: pyplot tutorial](https://matplotlib.org/tutorials/introductory/pyplot.html)\n",
    "- [2: zip](https://docs.python.org/3/library/functions.html#zip)\n",
    "- [3: pyplot.bar](https://matplotlib.org/api/_as_gen/matplotlib.pyplot.bar.html)"
   ]
  },
  {
   "cell_type": "markdown",
   "metadata": {},
   "source": [
    "In the cell below, write the code for the visualization of results from Problem 2."
   ]
  },
  {
   "cell_type": "code",
   "execution_count": 111,
   "metadata": {},
   "outputs": [
    {
     "data": {
      "image/png": "[encoded data removed]",
      "text/plain": [
       "<Figure size 432x288 with 1 Axes>"
      ]
     },
     "metadata": {
      "needs_background": "light"
     },
     "output_type": "display_data"
    }
   ],
   "source": [
    "# Sort char length dictionary by length of word\n",
    "cl_sorted = sorted(char_count_dict.items(), key=lambda x: x[0])\n",
    "\n",
    "# Get X and Y values\n",
    "# HINT: ref[2]\n",
    "X_vals, Y_vals = zip(*cl_sorted)\n",
    "\n",
    "# Plot the histogram for problem 2'\n",
    "# HINT: ref[3]\n",
    "plt.bar(X_vals, Y_vals, 0.75)\n",
    "plt.xlim((-1, len(X_vals)))\n",
    "plt.xticks(range(0,len(X_vals)+1,1))\n",
    "plt.xlabel('Letter')\n",
    "plt.ylabel('Letter Frequency Count')\n",
    "plt.title('Letter Frequency Count in The Count of Monte Cristo')\n",
    "plt.show()"
   ]
  },
  {
   "cell_type": "markdown",
   "metadata": {},
   "source": [
    "In the cell below, write the code for the visualization of results from Problem 3."
   ]
  },
  {
   "cell_type": "code",
   "execution_count": 162,
   "metadata": {},
   "outputs": [
    {
     "data": {
      "image/png": "[encoded data removed]",
      "text/plain": [
       "<Figure size 432x288 with 1 Axes>"
      ]
     },
     "metadata": {
      "needs_background": "light"
     },
     "output_type": "display_data"
    }
   ],
   "source": [
    "import numpy as np\n",
    "import matplotlib.pyplot as plt\n",
    "# Sort char length dictionary by length of word\n",
    "char_pos_sorted = sorted(char_pos_dict.items(), key=lambda x: x[0])\n",
    "\n",
    "# Get X and Y values\n",
    "X_vals, Y_vals = zip(*char_pos_sorted)\n",
    "Y_vals = np.array(Y_vals)\n",
    "\n",
    "ind = np.arange(len(X_vals)) # the x locations for the groups\n",
    "width = 0.3  # the width of the bars\n",
    "fig, ax = plt.subplots()\n",
    "rects1 = ax.bar(ind - width/3, Y_vals[:,0], width, label='first letter')\n",
    "rects2 = ax.bar(ind + 2*width/3, Y_vals[:,1], width, label='interior letter')\n",
    "rects3 = ax.bar(ind + 5*width/3, Y_vals[:,2], width, label='last letter') \n",
    "\n",
    "ax.set_xlabel('Letters')\n",
    "ax.set_ylabel('Frequency of Letters')\n",
    "ax.set_title('Frequency of Letters at Different Positions')\n",
    "plt.xticks(ind,X_vals)\n",
    "ax.legend()\n",
    "plt.show()\n"
   ]
  },
  {
   "cell_type": "markdown",
   "metadata": {},
   "source": [
    "### Practical Tasks:\n",
    "- You are reading and analyzing the text in a single, sequential pass. Can you consider a better (faster) way to perform the same tasks?\n",
    "- Rerun your code with a different manuscript. What if you use an ancient manuscript or a manuscript written in a different language than English? \n",
    "\n",
    "Outline below your findings."
   ]
  },
  {
   "cell_type": "markdown",
   "metadata": {},
   "source": [
    "Your answers here"
   ]
  },
  {
   "cell_type": "markdown",
   "metadata": {},
   "source": [
    "### Free-Form Questions:\n",
    "\n",
    "Tell us about your experience (for each quesiton provide a couple of sentences).\n",
    "- Describe the challenges you faced in addressing these tasks and how you overcame these challenges.\n",
    "- Did you work with other students on this assignment? If yes, how did you help them? How did they help you?"
   ]
  },
  {
   "cell_type": "markdown",
   "metadata": {},
   "source": [
    "*Your answers here*"
   ]
  }
 ],
 "metadata": {
  "kernelspec": {
   "display_name": "Python 3",
   "language": "python",
   "name": "python3"
  },
  "language_info": {
   "codemirror_mode": {
    "name": "ipython",
    "version": 3
   },
   "file_extension": ".py",
   "mimetype": "text/x-python",
   "name": "python",
   "nbconvert_exporter": "python",
   "pygments_lexer": "ipython3",
   "version": "3.7.3"
  }
 },
 "nbformat": 4,
 "nbformat_minor": 2
}
